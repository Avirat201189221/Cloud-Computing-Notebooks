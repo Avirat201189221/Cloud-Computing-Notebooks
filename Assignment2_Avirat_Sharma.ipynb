{
  "nbformat": 4,
  "nbformat_minor": 0,
  "metadata": {
    "colab": {
      "provenance": [],
      "toc_visible": true,
      "authorship_tag": "ABX9TyO78t4DKSmfCgBbZxtRhyo3",
      "include_colab_link": true
    },
    "kernelspec": {
      "name": "python3",
      "display_name": "Python 3"
    },
    "language_info": {
      "name": "python"
    }
  },
  "cells": [
    {
      "cell_type": "markdown",
      "metadata": {
        "id": "view-in-github",
        "colab_type": "text"
      },
      "source": [
        "<a href=\"https://colab.research.google.com/github/Avirat201189221/Cloud-Computing-Notebooks/blob/main/Assignment2_Avirat_Sharma.ipynb\" target=\"_parent\"><img src=\"https://colab.research.google.com/assets/colab-badge.svg\" alt=\"Open In Colab\"/></a>"
      ]
    },
    {
      "cell_type": "code",
      "execution_count": null,
      "metadata": {
        "colab": {
          "base_uri": "https://localhost:8080/"
        },
        "id": "t8jGlGI-gQg2",
        "outputId": "9d8d5433-19f7-4861-e9ba-ba74f2982442"
      },
      "outputs": [
        {
          "output_type": "stream",
          "name": "stdout",
          "text": [
            "Collecting xlsxwriter\n",
            "  Downloading XlsxWriter-3.1.2-py3-none-any.whl (153 kB)\n",
            "\u001b[?25l     \u001b[90m━━━━━━━━━━━━━━━━━━━━━━━━━━━━━━━━━━━━━━━━\u001b[0m \u001b[32m0.0/153.0 kB\u001b[0m \u001b[31m?\u001b[0m eta \u001b[36m-:--:--\u001b[0m\r\u001b[2K     \u001b[90m━━━━━━━━━━━━━━━━━━━━━━━━━━━━━━━━━━━━━━━\u001b[0m \u001b[32m153.0/153.0 kB\u001b[0m \u001b[31m5.5 MB/s\u001b[0m eta \u001b[36m0:00:00\u001b[0m\n",
            "\u001b[?25hInstalling collected packages: xlsxwriter\n",
            "Successfully installed xlsxwriter-3.1.2\n"
          ]
        }
      ],
      "source": [
        "pip install xlsxwriter"
      ]
    },
    {
      "cell_type": "markdown",
      "source": [
        "# 1."
      ],
      "metadata": {
        "id": "vgERuLqXgWWt"
      }
    },
    {
      "cell_type": "code",
      "source": [
        "import xlsxwriter\n",
        "import random as r\n",
        "workbook = xlsxwriter.Workbook('mySheet.xlsx')\n",
        "worksheet = workbook.add_worksheet()\n",
        "m=65000\n",
        "n=10000\n",
        "row=0\n",
        "col=0\n",
        "while(row<m):\n",
        "  while(col<n):\n",
        "    worksheet.write(row,col,r.randint(0,2000000000))\n",
        "    col=col+1\n",
        "  row=row+1\n",
        "workbook.close()"
      ],
      "metadata": {
        "id": "PmZ0jabOgY75"
      },
      "execution_count": null,
      "outputs": []
    },
    {
      "cell_type": "markdown",
      "source": [],
      "metadata": {
        "id": "JDTafgOOjDKT"
      }
    },
    {
      "cell_type": "markdown",
      "source": [
        "# 2."
      ],
      "metadata": {
        "id": "x_mFFO7EjIhp"
      }
    },
    {
      "cell_type": "code",
      "source": [
        "rows=100\n",
        "cols=100\n",
        "arr=[[0]*cols]*rows\n",
        "for i in range(len(arr)):\n",
        "  for j"
      ],
      "metadata": {
        "id": "A52JomtGmmgA"
      },
      "execution_count": null,
      "outputs": []
    },
    {
      "cell_type": "markdown",
      "source": [
        "# 3"
      ],
      "metadata": {
        "id": "ln4K1Qf3mZ4d"
      }
    },
    {
      "cell_type": "code",
      "source": [],
      "metadata": {
        "id": "sC1GhnUdjNjv"
      },
      "execution_count": null,
      "outputs": []
    }
  ]
}